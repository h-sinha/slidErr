{
 "cells": [
  {
   "cell_type": "code",
   "execution_count": 1,
   "metadata": {},
   "outputs": [],
   "source": [
    "import os\n",
    "from tqdm import tqdm\n",
    "import cv2 as cv\n",
    "import matplotlib.pyplot as plt\n",
    "import numpy as np\n",
    "from pprint import *"
   ]
  },
  {
   "cell_type": "code",
   "execution_count": 2,
   "metadata": {},
   "outputs": [],
   "source": [
    "def edge_detection(im):\n",
    "    dx = cv.Sobel(im, cv.CV_64F, 1, 0, ksize = 5)\n",
    "    dy = cv.Sobel(im, cv.CV_64F, 0, 1, ksize = 5)\n",
    "    gradient = np.sqrt(np.multiply(dx, dx) + np.multiply(dy, dy));\n",
    "    max_val = np.amax(gradient);\n",
    "    min_val = np.amin(gradient);\n",
    "    norm_gradient = np.around(255*(gradient-min_val)/(max_val-min_val));\n",
    "    norm_gradient = norm_gradient.astype(np.uint8)\n",
    "    return norm_gradient"
   ]
  },
  {
   "cell_type": "code",
   "execution_count": 3,
   "metadata": {},
   "outputs": [],
   "source": [
    "def crop_image(im, w, h):\n",
    "    colsum = np.sum(im, axis = 0)\n",
    "    rowsum = np.sum(im, axis = 1)\n",
    "    w_mid = w//2\n",
    "    h_mid = h//2\n",
    "    idx1 = np.argmax(colsum[6:w_mid])\n",
    "    idx2 = np.argmax(colsum[w_mid:w-6])\n",
    "    idx3 = np.argmax(rowsum[6:h_mid])\n",
    "    idx4 = np.argmax(rowsum[h_mid:h-6])\n",
    "    val1 = colsum[idx1]\n",
    "    val2 = colsum[idx2]\n",
    "    val3 = rowsum[idx3]\n",
    "    val4 = rowsum[idx4]\n",
    "    if val1 + val2 + val3 + val4 < 100000:\n",
    "        return im\n",
    "    else:\n",
    "        return im[idx1:idx2-idx1+w_mid, idx3:idx4-idx3+h_mid]"
   ]
  },
  {
   "cell_type": "code",
   "execution_count": 4,
   "metadata": {},
   "outputs": [],
   "source": [
    "def take_input():\n",
    "    slides = []\n",
    "    ppt = []\n",
    "    ans_range = []\n",
    "    index = 0\n",
    "    \n",
    "    for folder in tqdm(os.listdir('Dataset')):\n",
    "        index_start = index\n",
    "        for filename in os.listdir('Dataset/' + folder):\n",
    "            img = cv.imread(os.path.join(\"Dataset\", folder, filename))\n",
    "#             print(img.shape)\n",
    "            if filename == \"ppt.jpg\":\n",
    "                ppt.append(img)\n",
    "                ans_range.append((index_start, index))\n",
    "            else:\n",
    "                slides.append(img)\n",
    "            index += 1\n",
    "    return slides, ppt, ans_range\n",
    "        \n",
    "        "
   ]
  },
  {
   "cell_type": "code",
   "execution_count": 5,
   "metadata": {},
   "outputs": [],
   "source": [
    "def format_image(im_arr):\n",
    "    new_arr = []\n",
    "    for img in tqdm(im_arr):\n",
    "        w, h, _ = img.shape\n",
    "        img = cv.cvtColor(img, cv.COLOR_BGR2GRAY)\n",
    "        edgy = edge_detection(img)\n",
    "        img = crop_image(edgy, w, h)\n",
    "        new_arr.append(img)\n",
    "    return new_arr\n",
    "        "
   ]
  },
  {
   "cell_type": "code",
   "execution_count": 6,
   "metadata": {
    "scrolled": true
   },
   "outputs": [
    {
     "name": "stderr",
     "output_type": "stream",
     "text": [
      "100%|██████████| 159/159 [00:10<00:00, 14.90it/s]\n"
     ]
    }
   ],
   "source": [
    "slides, ppt, ans_range = take_input()\n"
   ]
  },
  {
   "cell_type": "code",
   "execution_count": null,
   "metadata": {},
   "outputs": [
    {
     "name": "stderr",
     "output_type": "stream",
     "text": [
      "  9%|▉         | 74/835 [00:06<05:08,  2.47it/s]"
     ]
    }
   ],
   "source": [
    "fslides = format_image(slides)\n",
    "# fppt = format_image(ppt)\n"
   ]
  },
  {
   "cell_type": "code",
   "execution_count": 18,
   "metadata": {},
   "outputs": [
    {
     "name": "stdout",
     "output_type": "stream",
     "text": [
      "(25281,)\n"
     ]
    }
   ],
   "source": [
    "print(slides.shape)"
   ]
  },
  {
   "cell_type": "code",
   "execution_count": 3,
   "metadata": {},
   "outputs": [],
   "source": [
    "def testing():\n",
    "    slides = []\n",
    "    ppt = []\n",
    "    ans_range = []\n",
    "    index = 0\n",
    "    for folder in os.listdir('Dataset'):\n",
    "        index_start = index\n",
    "        for filename in os.listdir('Dataset/'+folder):\n",
    "            img = cv.imread(os.path.join(\"Dataset\",folder,filename))\n",
    "            # print(filename, folder)\n",
    "            imgray = cv.cvtColor(img, cv.COLOR_BGR2GRAY)\n",
    "            print(img.shape, folder, filename)  \n",
    "            w,h,_=img.shape\n",
    "            edgy = edge_detection(imgray)\n",
    "            img = crop_image(edgy,w,h)\n",
    "            if filename == \"ppt.jpg\":\n",
    "                ppt.append(img)\n",
    "                ans_range.append((index_start,index))\n",
    "            else:\n",
    "                slides.append(img)\n",
    "            index = index + 1\n",
    "    slide_index = 0\n",
    "    for img in slides:\n",
    "        mx = 10.0\n",
    "        idx = -1\n",
    "        ppt_index = 0\n",
    "        for possibility in ppt:\n",
    "            cur_max = max(np.corrcoef(img, possibility))\n",
    "            if cur_max > mx:\n",
    "                mx = cur_max\n",
    "                idx = ppt_index\n",
    "            ppt_index = ppt_index + 1\n",
    "        if ans_range[idx][0] > slide_index or ans_range[idx][1] < slide_index:\n",
    "            print(\"Error : \",img)\n",
    "        slide_index = slide_index + 1"
   ]
  }
 ],
 "metadata": {
  "kernelspec": {
   "display_name": "Python 3",
   "language": "python",
   "name": "python3"
  },
  "language_info": {
   "codemirror_mode": {
    "name": "ipython",
    "version": 3
   },
   "file_extension": ".py",
   "mimetype": "text/x-python",
   "name": "python",
   "nbconvert_exporter": "python",
   "pygments_lexer": "ipython3",
   "version": "3.6.7"
  }
 },
 "nbformat": 4,
 "nbformat_minor": 2
}
