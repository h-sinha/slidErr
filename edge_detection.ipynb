{
 "cells": [
  {
   "cell_type": "code",
   "execution_count": 24,
   "metadata": {},
   "outputs": [],
   "source": [
    "import cv2 as cv\n",
    "import os\n",
    "import numpy as np\n",
    "import matplotlib.pyplot as plt\n",
    "from pprint import *\n",
    "# from IPython.core.interactiveshell import InteractiveShell\n",
    "# from pydataset import data\n",
    "# InteractiveShell.ast_node_interactivity = \"all\"\n"
   ]
  },
  {
   "cell_type": "code",
   "execution_count": 25,
   "metadata": {},
   "outputs": [],
   "source": [
    "def edge_detection(im):\n",
    "    dx = cv.Sobel(im, cv.CV_64F, 1, 0, ksize = 5)\n",
    "    dy = cv.Sobel(im, cv.CV_64F, 0, 1, ksize = 5)\n",
    "#     print(dx.shape)\n",
    "    gradient = np.sqrt(np.multiply(dx, dx) + np.multiply(dy, dy));\n",
    "    max_val = np.amax(gradient);\n",
    "    min_val = np.amin(gradient);\n",
    "    norm_gradient = np.around(255*(gradient-min_val)/(max_val-min_val));\n",
    "    norm_gradient = norm_gradient.astype(np.uint8)\n",
    "    return norm_gradient\n"
   ]
  },
  {
   "cell_type": "code",
   "execution_count": 26,
   "metadata": {},
   "outputs": [],
   "source": [
    "def crop_image(im):\n",
    "    colsum = np.sum(im, axis = 0)\n",
    "    rowsum = np.sum(im, axis = 1)\n",
    "    idx1 = np.argmax(colsum[4:698])\n",
    "    idx2 = np.argmax(colsum[699:1394])\n",
    "    idx3 = np.argmax(rowsum[5:540])\n",
    "    idx4 = np.argmax(rowsum[541:1076])\n",
    "    im2 = im[idx1:idx2-idx1+699, idx3:idx4-idx3+540]\n",
    "    return im2"
   ]
  },
  {
   "cell_type": "code",
   "execution_count": null,
   "metadata": {},
   "outputs": [],
   "source": [
    "im1 = cv.imread('5.jpg')\n",
    "im2 = cv.imread('ppt.jpg')\n",
    "\n",
    "imgray = cv.cvtColor(im1, cv.COLOR_BGR2GRAY)\n",
    "im0 = edge_detection(imgray)\n",
    "x = crop_image(im0)\n",
    "# print(\"sadsadas\")\n",
    "plt.imshow(im0)\n",
    "# plt.imshow(im1)\n",
    "\n"
   ]
  },
  {
   "cell_type": "code",
   "execution_count": 3,
   "metadata": {},
   "outputs": [
    {
     "ename": "SyntaxError",
     "evalue": "invalid syntax (<ipython-input-3-d8603f9f9bc3>, line 1)",
     "output_type": "error",
     "traceback": [
      "\u001b[0;36m  File \u001b[0;32m\"<ipython-input-3-d8603f9f9bc3>\"\u001b[0;36m, line \u001b[0;32m1\u001b[0m\n\u001b[0;31m    which python\u001b[0m\n\u001b[0m               ^\u001b[0m\n\u001b[0;31mSyntaxError\u001b[0m\u001b[0;31m:\u001b[0m invalid syntax\n"
     ]
    }
   ],
   "source": []
  },
  {
   "cell_type": "code",
   "execution_count": 45,
   "metadata": {},
   "outputs": [],
   "source": [
    "def testing():\n",
    "    slides = []\n",
    "    ppt = []\n",
    "    ans_range = []\n",
    "    index = 0\n",
    "    for folder in os.listdir('Dataset'):\n",
    "        index_start = index\n",
    "#         print(folder)\n",
    "        for filename in os.listdir('Dataset/'+folder):\n",
    "            img = cv.imread(os.path.join(\"Dataset\",folder,filename))\n",
    "            try:\n",
    "                imgray = cv.cvtColor(img, cv.COLOR_BGR2GRAY)\n",
    "            except:\n",
    "                print(filename)\n",
    "                continue\n",
    "            edgy = edge_detection(imgray)\n",
    "#             if folder == '08_4' and filename == '0.jpg':\n",
    "#                 pprint(edgy.shape)\n",
    "            img = crop_image(edgy)\n",
    "#             print(filename)\n",
    "            img = cv.resize(img,(1024, 791))\n",
    "            if filename == \"ppt.jpg\":\n",
    "                ppt.append(img)\n",
    "                ans_range.append((index_start,index))\n",
    "            else:\n",
    "                slides.append(img)\n",
    "            index = index + 1\n",
    "    slide_index = 0\n",
    "    for img in slides:\n",
    "        mx = 10.0\n",
    "        idx = -1\n",
    "        ppt_index = 0\n",
    "        for possibility in ppt:\n",
    "            cur_max = np.max(np.corrcoef(img, possibility))\n",
    "            if cur_max > mx:\n",
    "                mx = cur_max\n",
    "                idx = ppt_index\n",
    "                ppt_index = ppt_index + 1\n",
    "        if ans_range[idx][0] > slide_index or ans_range[idx][1] < slide_index:\n",
    "            print(\"Error : \",img)\n",
    "        slide_index = slide_index + 1"
   ]
  },
  {
   "cell_type": "code",
   "execution_count": 46,
   "metadata": {},
   "outputs": [
    {
     "name": "stdout",
     "output_type": "stream",
     "text": [
      "(1080, 1440)\n"
     ]
    },
    {
     "ename": "error",
     "evalue": "OpenCV(4.1.0) /io/opencv/modules/imgproc/src/resize.cpp:3718: error: (-215:Assertion failed) !ssize.empty() in function 'resize'\n",
     "output_type": "error",
     "traceback": [
      "\u001b[0;31m---------------------------------------------------------------------------\u001b[0m",
      "\u001b[0;31merror\u001b[0m                                     Traceback (most recent call last)",
      "\u001b[0;32m<ipython-input-46-a9ccd714e728>\u001b[0m in \u001b[0;36m<module>\u001b[0;34m\u001b[0m\n\u001b[0;32m----> 1\u001b[0;31m \u001b[0mtesting\u001b[0m\u001b[0;34m(\u001b[0m\u001b[0;34m)\u001b[0m\u001b[0;34m\u001b[0m\u001b[0;34m\u001b[0m\u001b[0m\n\u001b[0m",
      "\u001b[0;32m<ipython-input-45-00c2bab34e54>\u001b[0m in \u001b[0;36mtesting\u001b[0;34m()\u001b[0m\n\u001b[1;32m     19\u001b[0m             \u001b[0mimg\u001b[0m \u001b[0;34m=\u001b[0m \u001b[0mcrop_image\u001b[0m\u001b[0;34m(\u001b[0m\u001b[0medgy\u001b[0m\u001b[0;34m)\u001b[0m\u001b[0;34m\u001b[0m\u001b[0;34m\u001b[0m\u001b[0m\n\u001b[1;32m     20\u001b[0m \u001b[0;31m#             print(filename)\u001b[0m\u001b[0;34m\u001b[0m\u001b[0;34m\u001b[0m\u001b[0;34m\u001b[0m\u001b[0m\n\u001b[0;32m---> 21\u001b[0;31m             \u001b[0mimg\u001b[0m \u001b[0;34m=\u001b[0m \u001b[0mcv\u001b[0m\u001b[0;34m.\u001b[0m\u001b[0mresize\u001b[0m\u001b[0;34m(\u001b[0m\u001b[0mimg\u001b[0m\u001b[0;34m,\u001b[0m\u001b[0;34m(\u001b[0m\u001b[0;36m1024\u001b[0m\u001b[0;34m,\u001b[0m \u001b[0;36m791\u001b[0m\u001b[0;34m)\u001b[0m\u001b[0;34m)\u001b[0m\u001b[0;34m\u001b[0m\u001b[0;34m\u001b[0m\u001b[0m\n\u001b[0m\u001b[1;32m     22\u001b[0m             \u001b[0;32mif\u001b[0m \u001b[0mfilename\u001b[0m \u001b[0;34m==\u001b[0m \u001b[0;34m\"ppt.jpg\"\u001b[0m\u001b[0;34m:\u001b[0m\u001b[0;34m\u001b[0m\u001b[0;34m\u001b[0m\u001b[0m\n\u001b[1;32m     23\u001b[0m                 \u001b[0mppt\u001b[0m\u001b[0;34m.\u001b[0m\u001b[0mappend\u001b[0m\u001b[0;34m(\u001b[0m\u001b[0mimg\u001b[0m\u001b[0;34m)\u001b[0m\u001b[0;34m\u001b[0m\u001b[0;34m\u001b[0m\u001b[0m\n",
      "\u001b[0;31merror\u001b[0m: OpenCV(4.1.0) /io/opencv/modules/imgproc/src/resize.cpp:3718: error: (-215:Assertion failed) !ssize.empty() in function 'resize'\n"
     ]
    }
   ],
   "source": [
    "testing()"
   ]
  }
 ],
 "metadata": {
  "kernelspec": {
   "display_name": "Python 3",
   "language": "python",
   "name": "python3"
  },
  "language_info": {
   "codemirror_mode": {
    "name": "ipython",
    "version": 3
   },
   "file_extension": ".py",
   "mimetype": "text/x-python",
   "name": "python",
   "nbconvert_exporter": "python",
   "pygments_lexer": "ipython3",
   "version": "3.6.7"
  }
 },
 "nbformat": 4,
 "nbformat_minor": 2
}
