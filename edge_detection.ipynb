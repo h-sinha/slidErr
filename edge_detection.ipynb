{
 "cells": [
  {
   "cell_type": "code",
   "execution_count": null,
   "metadata": {},
   "outputs": [],
   "source": [
    "import cv2 as cv\n",
    "import numpy as np\n",
    "import matplotlib.pyplot as plt\n",
    "from pprint import *\n",
    "# from IPython.core.interactiveshell import InteractiveShell\n",
    "# from pydataset import data\n",
    "# InteractiveShell.ast_node_interactivity = \"all\"\n"
   ]
  },
  {
   "cell_type": "code",
   "execution_count": null,
   "metadata": {},
   "outputs": [],
   "source": [
    "def edge_detection(im):\n",
    "    dx = cv.Sobel(im, cv.CV_64F, 1, 0, ksize = 5)\n",
    "    dy = cv.Sobel(im, cv.CV_64F, 0, 1, ksize = 5)\n",
    "#     print(dx.shape)\n",
    "    gradient = np.sqrt(np.multiply(dx, dx) + np.multiply(dy, dy));\n",
    "    max_val = np.amax(gradient);\n",
    "    min_val = np.amin(gradient);\n",
    "    norm_gradient = np.around(255*(gradient-min_val)/(max_val-min_val));\n",
    "    norm_gradient = norm_gradient.astype(np.uint8)\n",
    "    return norm_gradient\n"
   ]
  },
  {
   "cell_type": "code",
   "execution_count": null,
   "metadata": {},
   "outputs": [],
   "source": [
    "def crop_image(im):\n",
    "    colsum = np.sum(im, axis = 0)\n",
    "    rowsum = np.sum(im, axis = 1)\n",
    "    idx1 = np.argmax(colsum[4:698])\n",
    "    idx2 = np.argmax(colsum[699:1394])\n",
    "    idx3 = np.argmax(rowsum[5:540])\n",
    "    idx4 = np.argmax(rowsum[541:1076])\n",
    "    im2 = im[idx1:idx2-idx1+699, idx3:idx4-idx3+540]\n",
    "    return im2"
   ]
  },
  {
   "cell_type": "code",
   "execution_count": null,
   "metadata": {},
   "outputs": [],
   "source": [
    "im1 = cv.imread('5.jpg')\n",
    "im2 = cv.imread('ppt.jpg')\n",
    "\n",
    "imgray = cv.cvtColor(im1, cv.COLOR_BGR2GRAY)\n",
    "im0 = edge_detection(imgray)\n",
    "x = crop_image(im0)\n",
    "# print(\"sadsadas\")\n",
    "plt.imshow(im0)\n",
    "# plt.imshow(im1)\n",
    "\n"
   ]
  },
  {
   "cell_type": "code",
   "execution_count": null,
   "metadata": {},
   "outputs": [],
   "source": []
  },
  {
   "cell_type": "code",
   "execution_count": null,
   "metadata": {},
   "outputs": [],
   "source": []
  },
  {
   "cell_type": "code",
   "execution_count": null,
   "metadata": {},
   "outputs": [],
   "source": []
  }
 ],
 "metadata": {
  "kernelspec": {
   "display_name": "Python 3",
   "language": "python",
   "name": "python3"
  },
  "language_info": {
   "codemirror_mode": {
    "name": "ipython",
    "version": 3
   },
   "file_extension": ".py",
   "mimetype": "text/x-python",
   "name": "python",
   "nbconvert_exporter": "python",
   "pygments_lexer": "ipython3",
   "version": "3.7.3"
  }
 },
 "nbformat": 4,
 "nbformat_minor": 2
}
